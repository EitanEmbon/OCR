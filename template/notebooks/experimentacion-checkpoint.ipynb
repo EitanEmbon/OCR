{
 "cells": [
  {
   "cell_type": "markdown",
   "metadata": {},
   "source": [
    "# Compilación\n",
    "---"
   ]
  },
  {
   "cell_type": "code",
   "execution_count": null,
   "metadata": {
    "scrolled": true
   },
   "outputs": [],
   "source": [
    "!cd .. && mkdir build\n",
    "!cd ../build/ && rm -rf *\n",
    "!rm -f *.so\n",
    "!cd ../build/ && cmake \\\n",
    "  -DPYTHON_EXECUTABLE=\"$(which python)\" \\\n",
    "  -DCMAKE_BUILD_TYPE=Release ..\n",
    "!cd ../build/ && make install"
   ]
  },
  {
   "cell_type": "code",
   "execution_count": 1,
   "metadata": {},
   "outputs": [
    {
     "name": "stdout",
     "output_type": "stream",
     "text": [
      "/home/eitancho/Escritorio/tp2-nuevo/notebooks\n",
      "Python 3.8.0\n"
     ]
    },
    {
     "name": "stderr",
     "output_type": "stream",
     "text": [
      "/home/eitancho/.pyenv/versions/3.8.0/envs/tp2_3.8/lib/python3.8/site-packages/tqdm/auto.py:22: TqdmWarning: IProgress not found. Please update jupyter and ipywidgets. See https://ipywidgets.readthedocs.io/en/stable/user_install.html\n",
      "  from .autonotebook import tqdm as notebook_tqdm\n"
     ]
    }
   ],
   "source": [
    "# Verifico la correcta instalación. Si no falla el import está OK\n",
    "!pwd\n",
    "!python --version\n",
    "import metnum\n",
    "import numpy as np\n",
    "from sklearn.model_selection import KFold\n",
    "\n",
    "# Cuando los splits son muy chicos o el accuracy es muy malo y no aparecen todos digitos se invalida el F-score para esos labels\n",
    "# Lo siguiente es para evitar el menssudo apt-get install libbz2-devaje de warning al calcular el F-score\n",
    "import warnings\n",
    "import sklearn.exceptions\n",
    "warnings.filterwarnings(\"ignore\", category=sklearn.exceptions.UndefinedMetricWarning)\n",
    "\n",
    "import time\n",
    "from sklearn.metrics import accuracy_score\n",
    "from sklearn.metrics import f1_score\n",
    "from sklearn.metrics import precision_score\n",
    "from sklearn.metrics import recall_score\n",
    "from sklearn.metrics import cohen_kappa_score\n",
    "from sklearn.metrics import confusion_matrix\n",
    "from sklearn.linear_model import LinearRegression\n",
    "\n",
    "import pandas as pd\n",
    "import seaborn as sns\n",
    "from tqdm.auto import tqdm\n",
    "import matplotlib.pyplot as plt\n",
    "\n",
    "\n",
    "from sklearn.metrics import ConfusionMatrixDisplay\n",
    "np.random.seed(1998)\n"
   ]
  },
  {
   "cell_type": "markdown",
   "metadata": {},
   "source": [
    "# K fold configuration y split simple\n",
    "---"
   ]
  },
  {
   "cell_type": "code",
   "execution_count": 2,
   "metadata": {},
   "outputs": [],
   "source": [
    "\n",
    "# Retorna el par data/labels a partir de un dataframe\n",
    "def Xypair(dataset):\n",
    "    X = dataset[dataset.columns[1:]].values\n",
    "    y = dataset[\"label\"].values.reshape(-1,1)\n",
    "    return (X,y)\n",
    "\n",
    "# Retorna k splits a partir del dataset (train/test) en pares (data/labels) o (X,y)\n",
    "def Kfoldconfig(dataset, K):\n",
    "    kfold = KFold(K, shuffle= True, random_state= 7)\n",
    "    splits = []\n",
    "    for train, test in kfold.split(dataset):\n",
    "        splits.append((Xypair(dataset.iloc[train]), Xypair(dataset.iloc[test])))\n",
    "    return splits\n",
    "\n",
    "def singlesplit(dataset, limit):\n",
    "    train_data = Xypair(dataset[:int(limit)])\n",
    "    val_data = Xypair(dataset[int(limit):])\n",
    "    return (train_data, val_data)"
   ]
  },
  {
   "cell_type": "markdown",
   "metadata": {},
   "source": [
    "# Funciones para correr los experimentos\n",
    "---"
   ]
  },
  {
   "cell_type": "code",
   "execution_count": 3,
   "metadata": {},
   "outputs": [],
   "source": [
    "\n",
    "\n",
    "def run_KNN(dataset, K, k):\n",
    "    # Definimos los splits del dataset\n",
    "    splits = []\n",
    "    if K == 1:\n",
    "        splits.append(singlesplit(dataset, int(dataset.shape[0] * 0.8)))\n",
    "    else:\n",
    "        splits = Kfoldconfig(dataset, K)\n",
    "    # Para cada split del dataset\n",
    "    m = len(splits)\n",
    "    acc = []\n",
    "    f1 = []\n",
    "    prec = []\n",
    "    rec = []\n",
    "    times = []\n",
    "    confusion = np.zeros((10, 10))\n",
    "    for split in splits:\n",
    "        X,y = split[0]\n",
    "        X_val, y_val = split[1]\n",
    "\n",
    "        start = time.time()\n",
    "\n",
    "        # Predecimos con KNN\n",
    "        clf = metnum.KNNClassifier(k)\n",
    "        clf.fit(X, y)\n",
    "        y_pred = clf.predict(X_val)\n",
    "\n",
    "        end = time.time()\n",
    "\n",
    "        acc.append(accuracy_score(y_val, y_pred))\n",
    "        f1.append(f1_score(y_val, y_pred, average=\"macro\", labels=np.unique(y_pred)))\n",
    "        prec.append(precision_score(y_val, y_pred, average=\"macro\", labels=np.unique(y_pred)))\n",
    "        rec.append(recall_score(y_val, y_pred, average=\"macro\", labels=np.unique(y_pred)))\n",
    "        confusion = confusion + confusion_matrix(y_val, y_pred, labels=np.arange(0,10))\n",
    "        times.append(end - start)\n",
    "\n",
    "    confusion = (confusion/ K).astype(int)\n",
    "    return (np.mean(times), np.mean(acc), np.mean(prec), np.mean(rec), np.mean(f1), confusion)\n",
    "\n",
    "def run_KNN_PCA(dataset, K, k, alpha):\n",
    "    # Definimos los splits del dataset\n",
    "    splits = []\n",
    "    if K == 1:\n",
    "        splits.append(singlesplit(dataset, int(dataset.shape[0] * 0.8)))\n",
    "    else:\n",
    "        splits = Kfoldconfig(dataset, K)\n",
    "    # Para cada split del dataset\n",
    "    m = len(splits)\n",
    "    acc = []\n",
    "    f1 = []\n",
    "    prec = []\n",
    "    rec = []\n",
    "    confusion = np.zeros((10, 10))\n",
    "    times = []\n",
    "    for split in splits:\n",
    "        X,y = split[0]\n",
    "        X_val, y_val = split[1]\n",
    "        \n",
    "        start = time.time()\n",
    "\n",
    "        # Generamos un nuevos datasets de dimension alpha de train y de validacion con PCA\n",
    "        pca = metnum.PCA(alpha)\n",
    "        pca.fit(X)\n",
    "        X = pca.transform(X)\n",
    "        X_val = pca.transform(X_val)\n",
    "        \n",
    "        # Predecimos con KNN\n",
    "        clf = metnum.KNNClassifier(k)\n",
    "        clf.fit(X, y)\n",
    "        y_pred = clf.predict(X_val)\n",
    "        \n",
    "        end = time.time()\n",
    "\n",
    "        acc.append(accuracy_score(y_val, y_pred))\n",
    "        f1.append(f1_score(y_val, y_pred, average=\"macro\", labels=np.unique(y_pred)))\n",
    "        prec.append(precision_score(y_val, y_pred, average=\"macro\", labels=np.unique(y_pred)))\n",
    "        rec.append(recall_score(y_val, y_pred, average=\"macro\", labels=np.unique(y_pred)))\n",
    "        confusion = confusion + confusion_matrix(y_val, y_pred, labels=np.arange(0,10))\n",
    "        times.append(end - start)\n",
    "\n",
    "    confusion = (confusion).astype(int)\n",
    "    return ([np.sum(times),np.std(times)], [np.mean(acc),np.std(acc)], [np.mean(prec),np.std(prec)], [np.mean(rec),np.std(rec)], [np.mean(f1),np.std(f1)], confusion)\n",
    "\n"
   ]
  },
  {
   "cell_type": "markdown",
   "metadata": {},
   "source": [
    "# Cargamos los datos\n"
   ]
  },
  {
   "cell_type": "code",
   "execution_count": 4,
   "metadata": {},
   "outputs": [],
   "source": [
    "def guardar_resultado(columnas, filas,guardarComo):\n",
    "    res = pd.DataFrame(filas, columns=columnas)\n",
    "    res.to_csv(guardarComo.format(filas[0][0]), index=False, header=True)"
   ]
  },
  {
   "cell_type": "code",
   "execution_count": 1,
   "metadata": {},
   "outputs": [
    {
     "ename": "NameError",
     "evalue": "name 'pd' is not defined",
     "output_type": "error",
     "traceback": [
      "\u001b[0;31m---------------------------------------------------------------------------\u001b[0m",
      "\u001b[0;31mNameError\u001b[0m                                 Traceback (most recent call last)",
      "\u001b[1;32m/home/eitancho/Escritorio/tp2-nuevo/notebooks/experimentacion-checkpoint.ipynb Cell 3'\u001b[0m in \u001b[0;36m<cell line: 1>\u001b[0;34m()\u001b[0m\n\u001b[0;32m----> <a href='vscode-notebook-cell:/home/eitancho/Escritorio/tp2-nuevo/notebooks/experimentacion-checkpoint.ipynb#ch0000002?line=0'>1</a>\u001b[0m df_train \u001b[39m=\u001b[39m pd\u001b[39m.\u001b[39mread_csv(\u001b[39m\"\u001b[39m\u001b[39m../data/train.csv.gz\u001b[39m\u001b[39m\"\u001b[39m)\n\u001b[1;32m      <a href='vscode-notebook-cell:/home/eitancho/Escritorio/tp2-nuevo/notebooks/experimentacion-checkpoint.ipynb#ch0000002?line=1'>2</a>\u001b[0m df_30000 \u001b[39m=\u001b[39m df_train\u001b[39m.\u001b[39msample(\u001b[39m30000\u001b[39m)\n\u001b[1;32m      <a href='vscode-notebook-cell:/home/eitancho/Escritorio/tp2-nuevo/notebooks/experimentacion-checkpoint.ipynb#ch0000002?line=2'>3</a>\u001b[0m df_20000 \u001b[39m=\u001b[39m df_train\u001b[39m.\u001b[39msample(\u001b[39m20000\u001b[39m)\n",
      "\u001b[0;31mNameError\u001b[0m: name 'pd' is not defined"
     ]
    }
   ],
   "source": [
    "df_train = pd.read_csv(\"../data/train.csv.gz\")\n",
    "df_30000 = df_train.sample(30000)\n",
    "df_20000 = df_train.sample(20000)\n",
    "df_10000 = df_train.sample(10000)\n",
    "df_5000 = df_train.sample(5000)\n",
    "df_1000 = df_train.sample(1000)\n",
    "df_500 = df_train.sample(500)\n",
    "df_100 = df_train.sample(100)\n",
    "\n",
    "\n"
   ]
  },
  {
   "cell_type": "markdown",
   "metadata": {},
   "source": [
    "# Corremos los experimentos\n",
    "---"
   ]
  },
  {
   "cell_type": "code",
   "execution_count": 6,
   "metadata": {},
   "outputs": [],
   "source": [
    "\n",
    "columnas = [\"experimento\", \"metodo\", \"K-folds\", \"k\", \"alpha\", \"tiempo\", \"accuracy\", \"precision\", \"recall\", \"F1-score\",  \"confusion\"]"
   ]
  },
  {
   "cell_type": "markdown",
   "metadata": {},
   "source": [
    "## KNN sin Kfold"
   ]
  },
  {
   "cell_type": "code",
   "execution_count": 6,
   "metadata": {},
   "outputs": [
    {
     "name": "stderr",
     "output_type": "stream",
     "text": [
      "k loop: 100%|██████████| 49/49 [35:25<00:00, 43.38s/it]\n"
     ]
    }
   ],
   "source": [
    "filas = []\n",
    "K = 1\n",
    "alpha = 36\n",
    "for k in tqdm(range(1, 50 , 1), desc='k loop'):\n",
    "    res = run_KNN_PCA(df_train, K, k, alpha)\n",
    "    filas.append([\"Encontramos_Mejor_k_Con_PCA_en_df_Train\", \"KNN_PCA\", K, k, alpha, res[0], res[1], res[2], res[3], res[4]])\n",
    "\n"
   ]
  },
  {
   "cell_type": "code",
   "execution_count": 7,
   "metadata": {},
   "outputs": [],
   "source": [
    "columnas = [\"experimento\", \"metodo\", \"K-folds\", \"k\", \"alpha\", \"tiempo\", \"accuracy\", \"precision\", \"recall\", \"F1-score\"]\n",
    "guardar_resultado(columnas, filas, guardarComo=\"../results2/KNN/{}.csv\")"
   ]
  },
  {
   "cell_type": "markdown",
   "metadata": {},
   "source": [
    "## KNN con Kfold"
   ]
  },
  {
   "cell_type": "code",
   "execution_count": null,
   "metadata": {},
   "outputs": [],
   "source": [
    "filas = []\n",
    "for K in tqdm(range(2, 15 + 1, 1), desc='Fold low loop '):\n",
    "    #for k in tqdm(range(1, 25 + 1, 5), desc='k loop'):\n",
    "    res = run_KNN(df_10000, K, 6)\n",
    "    filas.append([\"KNN_10000_KFold\", \"KNN\", K, 6, 0, res[0], res[1], res[2], res[3], res[4], res[5]])\n",
    "\n",
    "guardar_resultado(columnas, filas)"
   ]
  },
  {
   "cell_type": "markdown",
   "metadata": {},
   "source": [
    "## KNN + PCA sin Kfold"
   ]
  },
  {
   "cell_type": "code",
   "execution_count": 8,
   "metadata": {},
   "outputs": [
    {
     "name": "stderr",
     "output_type": "stream",
     "text": [
      "Alpha loop: 100%|██████████| 49/49 [33:38<00:00, 41.20s/it]\n",
      "Alpha loop: 100%|██████████| 5/5 [04:27<00:00, 53.44s/it]\n"
     ]
    }
   ],
   "source": [
    "\n",
    "filas = []\n",
    "# Testeamos distintos valores de alpha para los 3 mejores k encontrados\n",
    "k = 3\n",
    "K = 1\n",
    "for alpha in tqdm(range(1, 50, 1), desc='Alpha loop'):\n",
    "    res = run_KNN_PCA(df_train, K, k, alpha)\n",
    "    filas.append([\"Bucamos_Mejor_alpha_en_df\", \"KNN_PCA\", K, k, alpha, res[0], res[1], res[2], res[3], res[4]])\n",
    "for alpha in tqdm(range(50, 100, 10), desc='Alpha loop'):\n",
    "    res = run_KNN_PCA(df_train, K, k, alpha)\n",
    "    filas.append([\"Bucamos_Mejor_alpha_en_df\", \"KNN_PCA\", K, k, alpha, res[0], res[1], res[2], res[3], res[4]])\n",
    "\n"
   ]
  },
  {
   "cell_type": "code",
   "execution_count": 9,
   "metadata": {},
   "outputs": [],
   "source": [
    "columnas = [\"experimento\", \"metodo\", \"K-folds\", \"k\", \"alpha\", \"tiempo\", \"accuracy\", \"precision\", \"recall\", \"F1-score\"]\n",
    "guardar_resultado(columnas, filas,guardarComo=\"../results2/PCA/{}.csv\")"
   ]
  },
  {
   "cell_type": "markdown",
   "metadata": {},
   "source": [
    "## KNN + PCA con Kfold"
   ]
  },
  {
   "cell_type": "code",
   "execution_count": 6,
   "metadata": {},
   "outputs": [
    {
     "name": "stderr",
     "output_type": "stream",
     "text": [
      "k loop: 100%|██████████| 20/20 [1:26:15<00:00, 258.80s/it]\n"
     ]
    }
   ],
   "source": [
    "filas_mean = []\n",
    "filas_std = []\n",
    "filas_confusion = []\n",
    "k = 3\n",
    "alpha = 36\n",
    "for K in tqdm(range(1, 20 + 1, 1), desc='k loop'):\n",
    "    res = run_KNN_PCA(df_train, K, k, alpha)\n",
    "    filas_mean.append([\"Kfold_mean\", \"KNN_PCA\", K, k, alpha, res[0][0], res[1][0], res[2][0], res[3][0], res[4][0]])\n",
    "    filas_std.append([\"Kfold_std\", \"KNN_PCA\", K, k, alpha, res[0][1], res[1][1], res[2][1], res[3][1], res[4][1]])\n",
    "    filas_confusion.append(res[5])\n",
    "        \n"
   ]
  },
  {
   "cell_type": "code",
   "execution_count": 7,
   "metadata": {},
   "outputs": [],
   "source": [
    "columnas2 = range(0,10)\n",
    "filas_confusion = np.array(filas_confusion).reshape(10*20, 10)"
   ]
  },
  {
   "cell_type": "code",
   "execution_count": 8,
   "metadata": {},
   "outputs": [],
   "source": [
    "guardar_resultado(columnas2, filas_confusion, guardarComo=\"../results2/K-Fold/Kfold_confusion_dftrain.csv\")"
   ]
  },
  {
   "cell_type": "code",
   "execution_count": 9,
   "metadata": {},
   "outputs": [],
   "source": [
    "columnas = [\"experimento\", \"metodo\", \"K-folds\", \"k\", \"alpha\", \"tiempo\", \"accuracy\", \"precision\", \"recall\", \"F1-score\"]\n",
    "\n",
    "guardar_resultado(columnas, filas_mean,guardarComo=\"../results2/K-Fold/{}.csv\")\n",
    "guardar_resultado(columnas, filas_std,guardarComo=\"../results2/K-Fold/{}.csv\")\n"
   ]
  },
  {
   "cell_type": "markdown",
   "metadata": {},
   "source": [
    "## Variamos el tamaño de la base de datos para los mejores parametros encontrados: (k = 3, alpha = 36, K = 1,  20 y 5)"
   ]
  },
  {
   "cell_type": "code",
   "execution_count": 12,
   "metadata": {},
   "outputs": [
    {
     "name": "stderr",
     "output_type": "stream",
     "text": [
      "Alpha loop: 100%|██████████| 8/8 [07:24<00:00, 55.60s/it] \n"
     ]
    }
   ],
   "source": [
    "filas_mean = []\n",
    "filas_std = []\n",
    "filas_confusion = []\n",
    "k = 3\n",
    "alpha = 36\n",
    "#K = 1\n",
    "#K = 20\n",
    "K = 5\n",
    "bases = {\"df_100\": df_100, \"df_500\":df_500, \"df_1000\":df_1000, \"df_5000\": df_5000, \"df_10000\": df_10000, \n",
    "        \"df_20000\": df_20000, \"df_30000\": df_30000, \"df_42000\": df_train}\n",
    "for df in tqdm( bases, desc='Alpha loop'):\n",
    "    res = run_KNN_PCA(bases[df], K, k, alpha)\n",
    "    filas_mean.append([\"Df_mean\", \"KNN_PCA\", df, K, k, alpha, res[0][0], res[1][0], res[2][0], res[3][0], res[4][0]])\n",
    "    filas_std.append([\"Df_std\", \"KNN_PCA\", df, K, k, alpha, res[0][1], res[1][1], res[2][1], res[3][1], res[4][1]])   \n",
    "    filas_confusion.append(res[5])\n"
   ]
  },
  {
   "cell_type": "code",
   "execution_count": 14,
   "metadata": {},
   "outputs": [],
   "source": [
    "columnas2 = range(0,10)\n",
    "filas_confusion = np.array(filas_confusion).reshape(10*8, 10)\n",
    "guardar_resultado(columnas2, filas_confusion, guardarComo=\"../results2/VariandoDf/Confusion_ConKfold5.csv\")"
   ]
  },
  {
   "cell_type": "code",
   "execution_count": 15,
   "metadata": {},
   "outputs": [],
   "source": [
    "columnas = [\"experimento\", \"metodo\", \"Dataset\", \"K-folds\", \"k\", \"alpha\", \"tiempo\", \"accuracy\", \"precision\", \"recall\", \"F1-score\"]\n",
    "\n",
    "guardar_resultado(columnas, filas_mean,guardarComo=\"../results2/VariandoDf/MeanConKfold5.csv\")\n",
    "guardar_resultado(columnas, filas_std,guardarComo=\"../results2/VariandoDf/StdConKfold5.csv\")\n"
   ]
  }
 ],
 "metadata": {
  "interpreter": {
   "hash": "4e16687017bc3a92886ee95df2e8e6e314d27dedf2aad21d3adb48a4430f920c"
  },
  "kernelspec": {
   "display_name": "Python 3.8.0 64-bit ('tp2_3.8')",
   "language": "python",
   "name": "python3"
  },
  "language_info": {
   "codemirror_mode": {
    "name": "ipython",
    "version": 3
   },
   "file_extension": ".py",
   "mimetype": "text/x-python",
   "name": "python",
   "nbconvert_exporter": "python",
   "pygments_lexer": "ipython3",
   "version": "3.8.0"
  },
  "vscode": {
   "interpreter": {
    "hash": "4e16687017bc3a92886ee95df2e8e6e314d27dedf2aad21d3adb48a4430f920c"
   }
  }
 },
 "nbformat": 4,
 "nbformat_minor": 2
}
